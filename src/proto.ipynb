{
 "cells": [
  {
   "cell_type": "code",
   "execution_count": 1,
   "metadata": {},
   "outputs": [
    {
     "name": "stdout",
     "output_type": "stream",
     "text": [
      "\u001b[36m\u001b[1mProject \u001b[22m\u001b[39mArborist v0.1.0\n",
      "\u001b[32m\u001b[1m    Status\u001b[22m\u001b[39m `~/JuliaEnvs/Arborist/Project.toml`\n",
      " \u001b[90m [da1fd8a2]\u001b[39m\u001b[92m + CodeTracking v0.5.7\u001b[39m\n",
      " \u001b[90m [1914dd2f]\u001b[39m\u001b[92m + MacroTools v0.5.1\u001b[39m\n",
      "\u001b[32m\u001b[1m    Status\u001b[22m\u001b[39m `~/JuliaEnvs/Arborist/Manifest.toml`\n",
      " \u001b[90m [da1fd8a2]\u001b[39m\u001b[92m + CodeTracking v0.5.7\u001b[39m\n",
      " \u001b[90m [1914dd2f]\u001b[39m\u001b[92m + MacroTools v0.5.1\u001b[39m\n"
     ]
    }
   ],
   "source": [
    "using Pkg: @pkg_str\n",
    "\n",
    "pkg\"activate ..\"\n",
    "pkg\"status\""
   ]
  },
  {
   "cell_type": "code",
   "execution_count": 2,
   "metadata": {},
   "outputs": [],
   "source": [
    "using CodeTracking\n",
    "using MacroTools"
   ]
  },
  {
   "cell_type": "code",
   "execution_count": 3,
   "metadata": {},
   "outputs": [],
   "source": [
    "includet(\"../test/demo.jl\")"
   ]
  },
  {
   "cell_type": "code",
   "execution_count": 16,
   "metadata": {},
   "outputs": [
    {
     "data": {
      "text/plain": [
       "get_ast (generic function with 3 methods)"
      ]
     },
     "execution_count": 16,
     "metadata": {},
     "output_type": "execute_result"
    }
   ],
   "source": [
    "get_ast(f, args...) = get_ast(@which f(args...))\n",
    "function get_ast(::Type{F}, args...) where F <: Function\n",
    "    return get_ast(F.instance, args...)\n",
    "end\n",
    "function get_ast(meth::Method)\n",
    "    ast = definition(meth)\n",
    "    return MacroTools.striplines(ast)\n",
    "end"
   ]
  },
  {
   "cell_type": "code",
   "execution_count": 41,
   "metadata": {},
   "outputs": [
    {
     "data": {
      "text/plain": [
       ":(bar(x) = begin\n",
       "          x\n",
       "      end)"
      ]
     },
     "execution_count": 41,
     "metadata": {},
     "output_type": "execute_result"
    }
   ],
   "source": [
    "get_ast(typeof(bar), 1)"
   ]
  },
  {
   "cell_type": "code",
   "execution_count": 76,
   "metadata": {},
   "outputs": [
    {
     "data": {
      "text/plain": [
       "graft (generic function with 1 method)"
      ]
     },
     "execution_count": 76,
     "metadata": {},
     "output_type": "execute_result"
    }
   ],
   "source": [
    "@generated function graft(f, call_args...)\n",
    "    ast = get_ast(f, call_args...)\n",
    "    \n",
    "    # TODO: https://github.com/MikeInnes/MacroTools.jl/issues/116\n",
    "    def = MacroTools.splitdef(ast)\n",
    "    \n",
    "    body = Expr(:block,\n",
    "        Expr(:(=),  # give args their local names\n",
    "            Expr(:tuple, def[:args]...),\n",
    "            :call_args,\n",
    "        ),\n",
    "        def[:body]\n",
    "    )\n",
    "    \n",
    "    MacroTools.postwalk(body) do expr\n",
    "        if isexpr(expr, :call)\n",
    "            # TODO: make this ref `graft` right when in module\n",
    "            # TODO: make this do kwargs right\n",
    "            Expr(:block,\n",
    "                :(println(\"Calling \", $(expr.args[1]))),\n",
    "                Expr(:call, :graft, expr.args...)\n",
    "            )\n",
    "        else\n",
    "            expr\n",
    "        end\n",
    "    end\n",
    "end"
   ]
  },
  {
   "cell_type": "code",
   "execution_count": 79,
   "metadata": {},
   "outputs": [
    {
     "name": "stdout",
     "output_type": "stream",
     "text": [
      "Calling bar\n"
     ]
    },
    {
     "data": {
      "text/plain": [
       "2"
      ]
     },
     "execution_count": 79,
     "metadata": {},
     "output_type": "execute_result"
    }
   ],
   "source": [
    "graft(foo)"
   ]
  },
  {
   "cell_type": "code",
   "execution_count": 58,
   "metadata": {},
   "outputs": [
    {
     "data": {
      "text/plain": [
       ":(Any[:x, :y] = [1, 2])"
      ]
     },
     "execution_count": 58,
     "metadata": {},
     "output_type": "execute_result"
    }
   ],
   "source": [
    "true_args = Any[:x, :y]\n",
    ":($true_args = [1,2])"
   ]
  },
  {
   "cell_type": "code",
   "execution_count": 63,
   "metadata": {},
   "outputs": [
    {
     "data": {
      "text/plain": [
       "(1, 2)"
      ]
     },
     "execution_count": 63,
     "metadata": {},
     "output_type": "execute_result"
    }
   ],
   "source": [
    "(x,y) = [1,2]\n",
    "x, y"
   ]
  },
  {
   "cell_type": "code",
   "execution_count": 64,
   "metadata": {},
   "outputs": [
    {
     "name": "stdout",
     "output_type": "stream",
     "text": [
      "Expr\n",
      "  head: Symbol =\n",
      "  args: Array{Any}((2,))\n",
      "    1: Expr\n",
      "      head: Symbol tuple\n",
      "      args: Array{Any}((2,))\n",
      "        1: Symbol x\n",
      "        2: Symbol y\n",
      "    2: Expr\n",
      "      head: Symbol vect\n",
      "      args: Array{Any}((2,))\n",
      "        1: Int64 1\n",
      "        2: Int64 2\n"
     ]
    }
   ],
   "source": [
    ":((x, y) = [1,2]) |> dump"
   ]
  },
  {
   "cell_type": "code",
   "execution_count": 75,
   "metadata": {},
   "outputs": [
    {
     "name": "stdout",
     "output_type": "stream",
     "text": [
      "Int64 39\n"
     ]
    }
   ],
   "source": [
    "@generated function testem1(args...)\n",
    "    true_args = Any[:x, :y]\n",
    "\n",
    "end\n",
    "\n",
    "testem1(2,37) |> dump"
   ]
  },
  {
   "cell_type": "code",
   "execution_count": 30,
   "metadata": {},
   "outputs": [
    {
     "name": "stdout",
     "output_type": "stream",
     "text": [
      "Expr\n",
      "  head: Symbol block\n",
      "  args: Array{Any}((4,))\n",
      "    1: LineNumberNode\n",
      "      line: Int64 2\n",
      "      file: Symbol In[30]\n",
      "    2: Expr\n",
      "      head: Symbol call\n",
      "      args: Array{Any}((3,))\n",
      "        1: Symbol println\n",
      "        2: String \"Calling \"\n",
      "        3: Int64 1\n",
      "    3: LineNumberNode\n",
      "      line: Int64 3\n",
      "      file: Symbol In[30]\n",
      "    4: Expr\n",
      "      head: Symbol call\n",
      "      args: Array{Any}((1,))\n",
      "        1: Symbol foo\n"
     ]
    }
   ],
   "source": [
    "quote\n",
    "    println(\"Calling \", 1)\n",
    "    foo()\n",
    "    end |> dump"
   ]
  },
  {
   "cell_type": "code",
   "execution_count": null,
   "metadata": {},
   "outputs": [],
   "source": []
  }
 ],
 "metadata": {
  "kernelspec": {
   "display_name": "Julia 1.1.0",
   "language": "julia",
   "name": "julia-1.1"
  },
  "language_info": {
   "file_extension": ".jl",
   "mimetype": "application/julia",
   "name": "julia",
   "version": "1.1.0"
  }
 },
 "nbformat": 4,
 "nbformat_minor": 2
}
