{
 "cells": [
  {
   "cell_type": "code",
   "execution_count": 1,
   "metadata": {},
   "outputs": [
    {
     "name": "stdout",
     "output_type": "stream",
     "text": [
      "\u001b[36m\u001b[1mProject \u001b[22m\u001b[39mArborist v0.1.0\n",
      "\u001b[32m\u001b[1m    Status\u001b[22m\u001b[39m `~/JuliaEnvs/Arborist/Project.toml`\n",
      " \u001b[90m [da1fd8a2]\u001b[39m\u001b[92m + CodeTracking v0.5.7\u001b[39m\n",
      " \u001b[90m [1914dd2f]\u001b[39m\u001b[92m + MacroTools v0.5.1\u001b[39m\n",
      " \u001b[90m [295af30f]\u001b[39m\u001b[92m + Revise v2.1.6\u001b[39m\n",
      " \u001b[90m [b77e0a4c]\u001b[39m\u001b[92m + InteractiveUtils \u001b[39m\n",
      "\u001b[32m\u001b[1m    Status\u001b[22m\u001b[39m `~/JuliaEnvs/Arborist/Manifest.toml`\n",
      " \u001b[90m [da1fd8a2]\u001b[39m\u001b[92m + CodeTracking v0.5.7\u001b[39m\n",
      " \u001b[90m [1914dd2f]\u001b[39m\u001b[92m + MacroTools v0.5.1\u001b[39m\n",
      " \u001b[90m [295af30f]\u001b[39m\u001b[92m + Revise v2.1.6\u001b[39m\n",
      " \u001b[90m [b77e0a4c]\u001b[39m\u001b[92m + InteractiveUtils \u001b[39m\n"
     ]
    }
   ],
   "source": [
    "using Pkg: @pkg_str\n",
    "\n",
    "pkg\"activate ..\"\n",
    "pkg\"status\""
   ]
  },
  {
   "cell_type": "code",
   "execution_count": 2,
   "metadata": {},
   "outputs": [
    {
     "name": "stdout",
     "output_type": "stream",
     "text": [
      "\u001b[32m\u001b[1m   Testing\u001b[22m\u001b[39m Arborist\n",
      "\u001b[32m\u001b[1m Resolving\u001b[22m\u001b[39m package versions...\n",
      "Test Summary: | Pass  Total\n",
      "Arborist.jl   |    4      4\n",
      "\u001b[32m\u001b[1m   Testing\u001b[22m\u001b[39m Arborist tests passed \n"
     ]
    }
   ],
   "source": [
    "pkg\"test\""
   ]
  },
  {
   "cell_type": "code",
   "execution_count": null,
   "metadata": {},
   "outputs": [],
   "source": []
  },
  {
   "cell_type": "code",
   "execution_count": 4,
   "metadata": {},
   "outputs": [
    {
     "name": "stderr",
     "output_type": "stream",
     "text": [
      "┌ Info: Precompiling Arborist [a56570ba-ce5c-531d-8734-586fc97c4b8d]\n",
      "└ @ Base loading.jl:1186\n"
     ]
    }
   ],
   "source": [
    "using Arborist\n",
    "using Arborist: graft\n",
    "using Test\n"
   ]
  },
  {
   "cell_type": "code",
   "execution_count": 9,
   "metadata": {},
   "outputs": [],
   "source": [
    "includet(\"../test/demo.jl\")"
   ]
  },
  {
   "cell_type": "code",
   "execution_count": 12,
   "metadata": {},
   "outputs": [
    {
     "name": "stdout",
     "output_type": "stream",
     "text": [
      "****+(x::T, y::T) where T<:Union{Int128, Int16, Int32, Int64, Int8, UInt128, UInt16, UInt32, UInt64, UInt8} in Base at int.jl:53\n",
      "****+(x::T, y::T) where T<:Union{Int128, Int16, Int32, Int64, Int8, UInt128, UInt16, UInt32, UInt64, UInt8} in Base at int.jl:53\n"
     ]
    },
    {
     "name": "stderr",
     "output_type": "stream",
     "text": [
      "┌ Error: evaluation error\n",
      "│   mod = Base\n",
      "│   ex = const BitIntegerType = Union{map((T->begin\n",
      "                        #= /Users/osx/buildbot/slave/package_osx64/build/base/int.jl:45 =#\n",
      "                        Type{T}\n",
      "                    end), BitInteger_types)...}\n",
      "│   exception = (ErrorException(\"eval cannot be used in a generated function\"), Union{Ptr{Nothing}, InterpreterIP}[Ptr{Nothing} @0x0000000102817572, Ptr{Nothing} @0x00000001027ee71d, Ptr{Nothing} @0x0000000102835ec0, Ptr{Nothing} @0x00000001028047dd, Ptr{Nothing} @0x000000011b4aa748, Ptr{Nothing} @0x000000011b4acc84, Ptr{Nothing} @0x000000011b4ab3e1, Ptr{Nothing} @0x000000011b4ab73f, Ptr{Nothing} @0x00000001027d3b03, Ptr{Nothing} @0x000000011b4ad896, Ptr{Nothing} @0x000000011b4a24ff, Ptr{Nothing} @0x000000011b503912, Ptr{Nothing} @0x000000011b5033b7, Ptr{Nothing} @0x000000011b503414, Ptr{Nothing} @0x000000011b502a93, Ptr{Nothing} @0x000000011b50308f, Ptr{Nothing} @0x00000001027d3b03, Ptr{Nothing} @0x000000011fffd178, Ptr{Nothing} @0x000000011b4f8845, Ptr{Nothing} @0x000000011b4f9a6c, Ptr{Nothing} @0x000000011b4f7fc6, Ptr{Nothing} @0x000000011b4f7fe1, Ptr{Nothing} @0x00000001027e4312, Ptr{Nothing} @0x00000001027e468f, Ptr{Nothing} @0x000000011b4db839, Ptr{Nothing} @0x000000011b4dad08, Ptr{Nothing} @0x0000000102836bd9, Ptr{Nothing} @0x00000001066bad29, Ptr{Nothing} @0x0000000102823733, Ptr{Nothing} @0x0000000102823403, Ptr{Nothing} @0x00000001065e6cc9, Ptr{Nothing} @0x0000000106ecd574, Ptr{Nothing} @0x0000000106bfdf01, Ptr{Nothing} @0x00000001066b1f2d, Ptr{Nothing} @0x00000001066b2311, Ptr{Nothing} @0x00000001027d44d3, Ptr{Nothing} @0x00000001027d7a4f, Ptr{Nothing} @0x00000001027d3af7, Ptr{Nothing} @0x000000010298b798, Ptr{Nothing} @0x000000010298a275, Ptr{Nothing} @0x000000010298a788, InterpreterIP(CodeInfo(\n",
      "\u001b[90m1 ─\u001b[39m %1 = graft(+, 1, 1)\n",
      "\u001b[90m└──\u001b[39m      return %1\n",
      "), 0x0000000000000000), Ptr{Nothing} @0x000000010298a7e0, Ptr{Nothing} @0x000000010280377d, Ptr{Nothing} @0x00000001028047a8, Ptr{Nothing} @0x000000011fff7359, Ptr{Nothing} @0x000000011b48a86c, Ptr{Nothing} @0x00000001027e4312, Ptr{Nothing} @0x00000001027e468f, Ptr{Nothing} @0x000000011ffecfcd, Ptr{Nothing} @0x000000011ffee0ea, Ptr{Nothing} @0x00000001027d3b03, Ptr{Nothing} @0x00000001027eee87])\n",
      "└ @ Revise /Users/oxinabox/.julia/packages/Revise/agmgx/src/lowered.jl:52\n"
     ]
    },
    {
     "ename": "ErrorException",
     "evalue": "no AST got",
     "output_type": "error",
     "traceback": [
      "no AST got",
      "",
      "Stacktrace:",
      " [1] error(::String) at ./error.jl:33",
      " [2] #s13#3(::Any, ::Any, ::Any) at /Users/oxinabox/JuliaEnvs/Arborist/src/core.jl:7",
      " [3] (::Core.GeneratedFunctionStub)(::Any, ::Vararg{Any,N} where N) at ./boot.jl:522",
      " [4] top-level scope at In[12]:1"
     ]
    }
   ],
   "source": [
    "#==\n",
    "function eg1()\n",
    "    x = 2\n",
    "    y = eg1a(x)\n",
    "    x = eg1b()\n",
    "    return x\n",
    "end\n",
    "eg1a(x) = x\n",
    "eg1b() = boop()\n",
    "eg1c() = 7 \n",
    "==#\n",
    "graft(+, 1, 1)"
   ]
  },
  {
   "cell_type": "code",
   "execution_count": null,
   "metadata": {},
   "outputs": [],
   "source": []
  },
  {
   "cell_type": "code",
   "execution_count": null,
   "metadata": {},
   "outputs": [],
   "source": []
  }
 ],
 "metadata": {
  "kernelspec": {
   "display_name": "Julia 1.1.0",
   "language": "julia",
   "name": "julia-1.1"
  },
  "language_info": {
   "file_extension": ".jl",
   "mimetype": "application/julia",
   "name": "julia",
   "version": "1.1.0"
  }
 },
 "nbformat": 4,
 "nbformat_minor": 2
}
