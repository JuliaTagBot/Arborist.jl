{
 "cells": [
  {
   "cell_type": "code",
   "execution_count": 1,
   "metadata": {},
   "outputs": [
    {
     "name": "stdout",
     "output_type": "stream",
     "text": [
      "\u001b[32m\u001b[1mActivating\u001b[22m\u001b[39m environment at `~/JuliaEnvs/Arborist/Project.toml`\n",
      "\u001b[36m\u001b[1mProject \u001b[22m\u001b[39mArborist v0.1.0\n",
      "\u001b[32m\u001b[1m    Status\u001b[22m\u001b[39m `~/JuliaEnvs/Arborist/Project.toml`\n",
      " \u001b[90m [6e4b80f9]\u001b[39m\u001b[92m + BenchmarkTools v0.4.2\u001b[39m\n",
      " \u001b[90m [da1fd8a2]\u001b[39m\u001b[92m + CodeTracking v0.5.7\u001b[39m\n",
      " \u001b[90m [1914dd2f]\u001b[39m\u001b[92m + MacroTools v0.5.1\u001b[39m\n",
      " \u001b[90m [295af30f]\u001b[39m\u001b[92m + Revise v2.1.6\u001b[39m\n",
      " \u001b[90m [b77e0a4c]\u001b[39m\u001b[92m + InteractiveUtils \u001b[39m\n",
      "\u001b[32m\u001b[1m    Status\u001b[22m\u001b[39m `~/JuliaEnvs/Arborist/Manifest.toml`\n",
      " \u001b[90m [6e4b80f9]\u001b[39m\u001b[92m + BenchmarkTools v0.4.2\u001b[39m\n",
      " \u001b[90m [da1fd8a2]\u001b[39m\u001b[92m + CodeTracking v0.5.7\u001b[39m\n",
      " \u001b[90m [1914dd2f]\u001b[39m\u001b[92m + MacroTools v0.5.1\u001b[39m\n",
      " \u001b[90m [295af30f]\u001b[39m\u001b[92m + Revise v2.1.6\u001b[39m\n",
      " \u001b[90m [b77e0a4c]\u001b[39m\u001b[92m + InteractiveUtils \u001b[39m\n"
     ]
    }
   ],
   "source": [
    "using Pkg: @pkg_str\n",
    "\n",
    "pkg\"activate ..\"\n",
    "pkg\"status\""
   ]
  },
  {
   "cell_type": "code",
   "execution_count": 2,
   "metadata": {},
   "outputs": [
    {
     "name": "stderr",
     "output_type": "stream",
     "text": [
      "┌ Info: Recompiling stale cache file /Users/oxinabox/.julia/compiled/v1.3/Arborist/OXQd1.ji for Arborist [a56570ba-ce5c-531d-8734-586fc97c4b8d]\n",
      "└ @ Base loading.jl:1240\n"
     ]
    }
   ],
   "source": [
    "using Arborist\n",
    "using Arborist: graft, get_ast, recurse!\n",
    "using Test\n",
    "using BenchmarkTools\n",
    "using MacroTools"
   ]
  },
  {
   "cell_type": "code",
   "execution_count": 3,
   "metadata": {},
   "outputs": [],
   "source": [
    "includet(\"../test/demo.jl\")"
   ]
  },
  {
   "cell_type": "code",
   "execution_count": null,
   "metadata": {},
   "outputs": [],
   "source": []
  },
  {
   "cell_type": "code",
   "execution_count": 6,
   "metadata": {},
   "outputs": [
    {
     "data": {
      "text/plain": [
       "graft (generic function with 3 methods)"
      ]
     },
     "execution_count": 6,
     "metadata": {},
     "output_type": "execute_result"
    }
   ],
   "source": [
    "function translate_strings_grafter(reflection)\n",
    "    ast = reflection.ast\n",
    "    \n",
    "    MacroTools.postwalk(ast) do expr\n",
    "        if isexpr(expr, :call)\n",
    "            return recurse!(expr, reflection)\n",
    "        elseif isexpr(expr, String) ## String literal\n",
    "            # Stub for actually translating the text\n",
    "            return uppercase(expr)\n",
    "        else\n",
    "            return expr\n",
    "        end\n",
    "    end\n",
    "end\n",
    "Arborist.redeclare_graft()"
   ]
  },
  {
   "cell_type": "code",
   "execution_count": 8,
   "metadata": {},
   "outputs": [
    {
     "name": "stdout",
     "output_type": "stream",
     "text": [
      "  0.000010 seconds (5 allocations: 192 bytes)\n"
     ]
    },
    {
     "data": {
      "text/plain": [
       "\"OUTERINNER\""
      ]
     },
     "execution_count": 8,
     "metadata": {},
     "output_type": "execute_result"
    }
   ],
   "source": [
    "@time graft(translate_strings_grafter, string_demo1)"
   ]
  },
  {
   "cell_type": "code",
   "execution_count": 21,
   "metadata": {},
   "outputs": [
    {
     "name": "stdout",
     "output_type": "stream",
     "text": [
      "()\n",
      "*** badcake2() in Main at /Users/oxinabox/JuliaEnvs/Arborist/test/demo.jl:28\n",
      "quote\n",
      "    y = Main.graft(translate_strings_grafter, Main.sum, [1 for ii = Main.graft(translate_strings_grafter, Main.:(:), 1, 3)])\n",
      "    return y\n",
      "end\n",
      "\n",
      "()\n",
      "*** badcake2() in Main at /Users/oxinabox/JuliaEnvs/Arborist/test/demo.jl:28\n",
      "quote\n",
      "    y = Main.graft(translate_strings_grafter, Main.sum, [1 for ii = Main.graft(translate_strings_grafter, Main.:(:), 1, 3)])\n",
      "    return y\n",
      "end\n",
      "\n"
     ]
    },
    {
     "ename": "ErrorException",
     "evalue": "generated function body is not pure. this likely means it contains a closure or comprehension.",
     "output_type": "error",
     "traceback": [
      "generated function body is not pure. this likely means it contains a closure or comprehension.",
      "",
      "Stacktrace:",
      " [1] top-level scope at util.jl:156",
      " [2] top-level scope at In[21]:1"
     ]
    }
   ],
   "source": [
    "@time graft(translate_strings_grafter, badcake2)"
   ]
  },
  {
   "cell_type": "code",
   "execution_count": 22,
   "metadata": {},
   "outputs": [
    {
     "data": {
      "text/plain": [
       "graft (generic function with 3 methods)"
      ]
     },
     "execution_count": 22,
     "metadata": {},
     "output_type": "execute_result"
    }
   ],
   "source": [
    "@inline function fma_grafter(reflection)\n",
    "    ast = reflection.ast\n",
    "    MacroTools.prewalk(ast) do expr\n",
    "        if (\n",
    "            @capture(expr, x_ * y_ + z_) ||\n",
    "            @capture(expr, z_ + x_ * y_)        \n",
    "            )\n",
    "            \n",
    "            return :(fma($x, $y, $z)) \n",
    "        elseif isexpr(expr, :call)\n",
    "            return Expr(:call,\n",
    "                :graft, fma_grafter, expr.args...\n",
    "            )\n",
    "        end\n",
    "        return expr\n",
    "    end\n",
    "end\n",
    "\n",
    "Arborist.redeclare_graft()"
   ]
  },
  {
   "cell_type": "code",
   "execution_count": 20,
   "metadata": {},
   "outputs": [
    {
     "name": "stdout",
     "output_type": "stream",
     "text": [
      "(Int64,)\n",
      "*** fma_demo2(a) in Main at /Users/oxinabox/JuliaEnvs/Arborist/test/demo.jl:43\n",
      "quote\n",
      "    (a,) = call_args\n",
      "    Main.fma(Main.graft(fma_grafter, *, 8, a), a, sqrt.(a))\n",
      "end\n",
      "\n",
      "(Int64, Int64)\n",
      "*** *(x::T, y::T) where T<:Union{Int128, Int16, Int32, Int64, Int8, UInt128, UInt16, UInt32, UInt64, UInt8} in Base at int.jl:54\n",
      "  0.131535 seconds (165.59 k allocations: 8.442 MiB, 4.15% gc time)\n"
     ]
    },
    {
     "name": "stderr",
     "output_type": "stream",
     "text": [
      "┌ Warning: skipping *(x::T, y::T) where T<:Union{Int128, Int16, Int32, Int64, Int8, UInt128, UInt16, UInt32, UInt64, UInt8} in Base at int.jl:54 to avoid parsing too much code\n",
      "└ @ Revise /Users/oxinabox/.julia/packages/Revise/agmgx/src/Revise.jl:813\n"
     ]
    },
    {
     "data": {
      "text/plain": [
       "8.000000000001e16"
      ]
     },
     "execution_count": 20,
     "metadata": {},
     "output_type": "execute_result"
    }
   ],
   "source": [
    "bigmat = 100000rand((1000,1000))\n",
    "\n",
    "@time graft(fma_grafter, fma_demo2, bigmat)"
   ]
  },
  {
   "cell_type": "code",
   "execution_count": 14,
   "metadata": {},
   "outputs": [
    {
     "name": "stdout",
     "output_type": "stream",
     "text": [
      "  0.000003 seconds (5 allocations: 176 bytes)\n"
     ]
    },
    {
     "data": {
      "text/plain": [
       "8.000000000001e16"
      ]
     },
     "execution_count": 14,
     "metadata": {},
     "output_type": "execute_result"
    }
   ],
   "source": [
    "@time fma_demo2(bigmat)"
   ]
  },
  {
   "cell_type": "code",
   "execution_count": 20,
   "metadata": {},
   "outputs": [
    {
     "data": {
      "text/plain": [
       "2"
      ]
     },
     "execution_count": 20,
     "metadata": {},
     "output_type": "execute_result"
    }
   ],
   "source": [
    "@generated function foo()\n",
    "    xs = (a=2, b=2)\n",
    "    :(1+1)\n",
    "end\n",
    "foo()"
   ]
  },
  {
   "cell_type": "code",
   "execution_count": null,
   "metadata": {},
   "outputs": [],
   "source": []
  }
 ],
 "metadata": {
  "kernelspec": {
   "display_name": "Julia 1.3.0-DEV",
   "language": "julia",
   "name": "julia-1.3"
  },
  "language_info": {
   "file_extension": ".jl",
   "mimetype": "application/julia",
   "name": "julia",
   "version": "1.3.0"
  }
 },
 "nbformat": 4,
 "nbformat_minor": 2
}
