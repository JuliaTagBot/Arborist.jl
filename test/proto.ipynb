{
 "cells": [
  {
   "cell_type": "code",
   "execution_count": 1,
   "metadata": {},
   "outputs": [
    {
     "name": "stdout",
     "output_type": "stream",
     "text": [
      "\u001b[36m\u001b[1mProject \u001b[22m\u001b[39mArborist v0.1.0\n",
      "\u001b[32m\u001b[1m    Status\u001b[22m\u001b[39m `~/JuliaEnvs/Arborist/Project.toml`\n",
      " \u001b[90m [da1fd8a2]\u001b[39m\u001b[92m + CodeTracking v0.5.7\u001b[39m\n",
      " \u001b[90m [1914dd2f]\u001b[39m\u001b[92m + MacroTools v0.5.1\u001b[39m\n",
      " \u001b[90m [295af30f]\u001b[39m\u001b[92m + Revise v2.1.6\u001b[39m\n",
      " \u001b[90m [b77e0a4c]\u001b[39m\u001b[92m + InteractiveUtils \u001b[39m\n",
      "\u001b[32m\u001b[1m    Status\u001b[22m\u001b[39m `~/JuliaEnvs/Arborist/Manifest.toml`\n",
      " \u001b[90m [da1fd8a2]\u001b[39m\u001b[92m + CodeTracking v0.5.7\u001b[39m\n",
      " \u001b[90m [1914dd2f]\u001b[39m\u001b[92m + MacroTools v0.5.1\u001b[39m\n",
      " \u001b[90m [295af30f]\u001b[39m\u001b[92m + Revise v2.1.6\u001b[39m\n",
      " \u001b[90m [b77e0a4c]\u001b[39m\u001b[92m + InteractiveUtils \u001b[39m\n"
     ]
    }
   ],
   "source": [
    "using Pkg: @pkg_str\n",
    "\n",
    "pkg\"activate ..\"\n",
    "pkg\"status\""
   ]
  },
  {
   "cell_type": "code",
   "execution_count": 2,
   "metadata": {},
   "outputs": [
    {
     "name": "stdout",
     "output_type": "stream",
     "text": [
      "\u001b[32m\u001b[1m   Testing\u001b[22m\u001b[39m Arborist\n",
      "\u001b[32m\u001b[1m Resolving\u001b[22m\u001b[39m package versions...\n",
      "Test Summary: | Pass  Total\n",
      "Arborist.jl   |   13     13\n",
      "\u001b[32m\u001b[1m   Testing\u001b[22m\u001b[39m Arborist tests passed \n"
     ]
    }
   ],
   "source": [
    "pkg\"test\""
   ]
  },
  {
   "cell_type": "code",
   "execution_count": 3,
   "metadata": {},
   "outputs": [],
   "source": [
    "using Arborist\n",
    "using Arborist: graft, get_ast\n",
    "using Test\n",
    "using MacroTools"
   ]
  },
  {
   "cell_type": "code",
   "execution_count": 4,
   "metadata": {},
   "outputs": [],
   "source": [
    "includet(\"../test/demo.jl\")"
   ]
  },
  {
   "cell_type": "code",
   "execution_count": null,
   "metadata": {},
   "outputs": [],
   "source": []
  },
  {
   "cell_type": "code",
   "execution_count": 5,
   "metadata": {},
   "outputs": [
    {
     "data": {
      "text/plain": [
       "\"outerinner\""
      ]
     },
     "execution_count": 5,
     "metadata": {},
     "output_type": "execute_result"
    }
   ],
   "source": [
    "string_demo1()"
   ]
  },
  {
   "cell_type": "code",
   "execution_count": 6,
   "metadata": {},
   "outputs": [
    {
     "name": "stdout",
     "output_type": "stream",
     "text": [
      "*** string_demo1() in Main at /Users/oxinabox/JuliaEnvs/Arborist/test/demo.jl:38\n",
      "*** string_demo1a() in Main at /Users/oxinabox/JuliaEnvs/Arborist/test/demo.jl:39\n",
      "*** *(s1::Union{AbstractChar, AbstractString}, ss::Union{AbstractChar, AbstractString}...) in Base at strings/basic.jl:229\n"
     ]
    },
    {
     "name": "stderr",
     "output_type": "stream",
     "text": [
      "┌ Info: tracking Base\n",
      "└ @ Revise /Users/oxinabox/.julia/packages/Revise/agmgx/src/Revise.jl:848\n"
     ]
    },
    {
     "data": {
      "text/plain": [
       "\"OUTERINNER\""
      ]
     },
     "execution_count": 6,
     "metadata": {},
     "output_type": "execute_result"
    }
   ],
   "source": [
    "graft(Arborist.translate_strings_grafter, string_demo1)"
   ]
  },
  {
   "cell_type": "code",
   "execution_count": null,
   "metadata": {},
   "outputs": [],
   "source": []
  },
  {
   "cell_type": "code",
   "execution_count": null,
   "metadata": {},
   "outputs": [],
   "source": []
  },
  {
   "cell_type": "code",
   "execution_count": null,
   "metadata": {},
   "outputs": [],
   "source": []
  }
 ],
 "metadata": {
  "kernelspec": {
   "display_name": "Julia 1.1.0",
   "language": "julia",
   "name": "julia-1.1"
  },
  "language_info": {
   "file_extension": ".jl",
   "mimetype": "application/julia",
   "name": "julia",
   "version": "1.1.0"
  }
 },
 "nbformat": 4,
 "nbformat_minor": 2
}
