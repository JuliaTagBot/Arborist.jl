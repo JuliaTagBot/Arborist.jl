{
 "cells": [
  {
   "cell_type": "code",
   "execution_count": 1,
   "metadata": {},
   "outputs": [
    {
     "name": "stdout",
     "output_type": "stream",
     "text": [
      "\u001b[32m\u001b[1mActivating\u001b[22m\u001b[39m environment at `~/JuliaEnvs/Arborist/Project.toml`\n",
      "\u001b[36m\u001b[1mProject \u001b[22m\u001b[39mArborist v0.1.0\n",
      "\u001b[32m\u001b[1m    Status\u001b[22m\u001b[39m `~/JuliaEnvs/Arborist/Project.toml`\n",
      " \u001b[90m [6e4b80f9]\u001b[39m\u001b[92m + BenchmarkTools v0.4.2\u001b[39m\n",
      " \u001b[90m [da1fd8a2]\u001b[39m\u001b[92m + CodeTracking v0.5.7\u001b[39m\n",
      " \u001b[90m [1914dd2f]\u001b[39m\u001b[92m + MacroTools v0.5.1\u001b[39m\n",
      " \u001b[90m [295af30f]\u001b[39m\u001b[92m + Revise v2.1.6\u001b[39m\n",
      " \u001b[90m [b77e0a4c]\u001b[39m\u001b[92m + InteractiveUtils \u001b[39m\n",
      "\u001b[32m\u001b[1m    Status\u001b[22m\u001b[39m `~/JuliaEnvs/Arborist/Manifest.toml`\n",
      " \u001b[90m [6e4b80f9]\u001b[39m\u001b[92m + BenchmarkTools v0.4.2\u001b[39m\n",
      " \u001b[90m [da1fd8a2]\u001b[39m\u001b[92m + CodeTracking v0.5.7\u001b[39m\n",
      " \u001b[90m [1914dd2f]\u001b[39m\u001b[92m + MacroTools v0.5.1\u001b[39m\n",
      " \u001b[90m [295af30f]\u001b[39m\u001b[92m + Revise v2.1.6\u001b[39m\n",
      " \u001b[90m [b77e0a4c]\u001b[39m\u001b[92m + InteractiveUtils \u001b[39m\n"
     ]
    }
   ],
   "source": [
    "using Pkg: @pkg_str\n",
    "\n",
    "pkg\"activate ..\"\n",
    "pkg\"status\""
   ]
  },
  {
   "cell_type": "code",
   "execution_count": 2,
   "metadata": {},
   "outputs": [
    {
     "name": "stderr",
     "output_type": "stream",
     "text": [
      "┌ Info: Recompiling stale cache file /Users/oxinabox/.julia/compiled/v1.3/Arborist/OXQd1.ji for Arborist [a56570ba-ce5c-531d-8734-586fc97c4b8d]\n",
      "└ @ Base loading.jl:1240\n"
     ]
    }
   ],
   "source": [
    "using Arborist\n",
    "using Arborist: graft, get_ast, qualify_name\n",
    "using Test\n",
    "using BenchmarkTools\n",
    "using MacroTools"
   ]
  },
  {
   "cell_type": "code",
   "execution_count": 3,
   "metadata": {},
   "outputs": [],
   "source": [
    "includet(\"../test/demo.jl\")"
   ]
  },
  {
   "cell_type": "code",
   "execution_count": 4,
   "metadata": {},
   "outputs": [
    {
     "data": {
      "text/plain": [
       "recurse! (generic function with 1 method)"
      ]
     },
     "execution_count": 4,
     "metadata": {},
     "output_type": "execute_result"
    }
   ],
   "source": [
    "function recurse!(expr, reflection)\n",
    "    @assert isexpr(expr, :call)\n",
    "    expr.args[1] = qualify_name(\n",
    "        reflection.meth.module, expr.args[1]\n",
    "    )\n",
    "    return Expr(:block,\n",
    "        Expr(:call,\n",
    "            :graft, reflection.grafter,\n",
    "            expr.args...\n",
    "        )\n",
    "    )\n",
    "end"
   ]
  },
  {
   "cell_type": "code",
   "execution_count": 5,
   "metadata": {},
   "outputs": [
    {
     "data": {
      "text/plain": [
       "graft (generic function with 3 methods)"
      ]
     },
     "execution_count": 5,
     "metadata": {},
     "output_type": "execute_result"
    }
   ],
   "source": [
    "function translate_strings_grafter(reflection)\n",
    "    ast = reflection.ast\n",
    "    \n",
    "    MacroTools.postwalk(ast) do expr\n",
    "        if isexpr(expr, :call)\n",
    "            return recurse!(expr, reflection)\n",
    "        elseif isexpr(expr, String) ## String literal\n",
    "            # Stub for actually translating the text\n",
    "            return uppercase(expr)\n",
    "        else\n",
    "            return expr\n",
    "        end\n",
    "    end\n",
    "end\n",
    "Arborist.redeclare_graft()"
   ]
  },
  {
   "cell_type": "code",
   "execution_count": 6,
   "metadata": {},
   "outputs": [
    {
     "name": "stdout",
     "output_type": "stream",
     "text": [
      "()\n",
      "*** string_demo1() in Main at /Users/oxinabox/JuliaEnvs/Arborist/test/demo.jl:38\n",
      ":(Main.graft(translate_strings_grafter, Main.:*, \"OUTER\", Main.graft(translate_strings_grafter, Main.string_demo1a)))\n",
      "\n",
      "()\n",
      "*** string_demo1a() in Main at /Users/oxinabox/JuliaEnvs/Arborist/test/demo.jl:39\n",
      "\"INNER\"\n",
      "\n",
      "(String, String)\n",
      "*** *(s1::Union{AbstractChar, AbstractString}, ss::Union{AbstractChar, AbstractString}...) in Base at strings/basic.jl:230\n",
      "  1.718773 seconds (3.83 M allocations: 196.966 MiB, 4.94% gc time)\n"
     ]
    },
    {
     "name": "stderr",
     "output_type": "stream",
     "text": [
      "┌ Info: tracking Base\n",
      "└ @ Revise /Users/oxinabox/.julia/packages/Revise/agmgx/src/Revise.jl:848\n"
     ]
    },
    {
     "data": {
      "text/plain": [
       "\"OUTERINNER\""
      ]
     },
     "execution_count": 6,
     "metadata": {},
     "output_type": "execute_result"
    }
   ],
   "source": [
    "@time graft(translate_strings_grafter, string_demo1)"
   ]
  },
  {
   "cell_type": "code",
   "execution_count": null,
   "metadata": {},
   "outputs": [],
   "source": []
  },
  {
   "cell_type": "code",
   "execution_count": 10,
   "metadata": {},
   "outputs": [
    {
     "data": {
      "text/plain": [
       "graft (generic function with 3 methods)"
      ]
     },
     "execution_count": 10,
     "metadata": {},
     "output_type": "execute_result"
    }
   ],
   "source": [
    "@inline function fma_grafter(reflection)\n",
    "    ast = reflection.ast\n",
    "    MacroTools.prewalk(ast) do expr\n",
    "        if (\n",
    "            @capture(expr, x_ * y_ + z_) ||\n",
    "            @capture(expr, z_ + x_ * y_)        \n",
    "            )\n",
    "            \n",
    "            return :(fma($x, $y, $z)) \n",
    "        elseif isexpr(expr, :call)\n",
    "            return Expr(:call,\n",
    "                :graft, fma_grafter, expr.args...\n",
    "            )\n",
    "        end\n",
    "        return expr\n",
    "    end\n",
    "end\n",
    "\n",
    "Arborist.redeclare_graft()"
   ]
  },
  {
   "cell_type": "code",
   "execution_count": 11,
   "metadata": {},
   "outputs": [
    {
     "name": "stdout",
     "output_type": "stream",
     "text": [
      "(Int64,)\n",
      "*** fma_demo2(a) in Main at /Users/oxinabox/JuliaEnvs/Arborist/test/demo.jl:43\n",
      "quote\n",
      "    (a,) = call_args\n",
      "    Main.fma(Main.graft(fma_grafter, *, 8, a), a, sqrt.(a))\n",
      "end\n",
      "\n",
      "(Int64, Int64)\n",
      "*** *(x::T, y::T) where T<:Union{Int128, Int16, Int32, Int64, Int8, UInt128, UInt16, UInt32, UInt64, UInt8} in Base at int.jl:54\n",
      "  0.176782 seconds (165.57 k allocations: 8.430 MiB, 3.03% gc time)\n"
     ]
    },
    {
     "name": "stderr",
     "output_type": "stream",
     "text": [
      "┌ Warning: skipping *(x::T, y::T) where T<:Union{Int128, Int16, Int32, Int64, Int8, UInt128, UInt16, UInt32, UInt64, UInt8} in Base at int.jl:54 to avoid parsing too much code\n",
      "└ @ Revise /Users/oxinabox/.julia/packages/Revise/agmgx/src/Revise.jl:813\n"
     ]
    },
    {
     "data": {
      "text/plain": [
       "8.000000000001e16"
      ]
     },
     "execution_count": 11,
     "metadata": {},
     "output_type": "execute_result"
    }
   ],
   "source": [
    "bigmat = 100000rand((1000,1000))\n",
    "\n",
    "@time graft(fma_grafter, fma_demo2, bigmat)"
   ]
  },
  {
   "cell_type": "code",
   "execution_count": 9,
   "metadata": {},
   "outputs": [
    {
     "name": "stdout",
     "output_type": "stream",
     "text": [
      "  0.005322 seconds (4.46 k allocations: 224.080 KiB)\n"
     ]
    },
    {
     "data": {
      "text/plain": [
       "8.000000000001e16"
      ]
     },
     "execution_count": 9,
     "metadata": {},
     "output_type": "execute_result"
    }
   ],
   "source": [
    "@time fma_demo2(bigmat)"
   ]
  },
  {
   "cell_type": "code",
   "execution_count": 20,
   "metadata": {},
   "outputs": [
    {
     "data": {
      "text/plain": [
       "2"
      ]
     },
     "execution_count": 20,
     "metadata": {},
     "output_type": "execute_result"
    }
   ],
   "source": [
    "@generated function foo()\n",
    "    xs = (a=2, b=2)\n",
    "    :(1+1)\n",
    "end\n",
    "foo()"
   ]
  },
  {
   "cell_type": "code",
   "execution_count": null,
   "metadata": {},
   "outputs": [],
   "source": []
  }
 ],
 "metadata": {
  "kernelspec": {
   "display_name": "Julia 1.3.0-DEV",
   "language": "julia",
   "name": "julia-1.3"
  },
  "language_info": {
   "file_extension": ".jl",
   "mimetype": "application/julia",
   "name": "julia",
   "version": "1.3.0"
  }
 },
 "nbformat": 4,
 "nbformat_minor": 2
}
