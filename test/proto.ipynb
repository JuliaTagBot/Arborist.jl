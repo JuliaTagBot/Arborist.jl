{
 "cells": [
  {
   "cell_type": "code",
   "execution_count": 1,
   "metadata": {},
   "outputs": [
    {
     "name": "stdout",
     "output_type": "stream",
     "text": [
      "\u001b[32m\u001b[1mActivating\u001b[22m\u001b[39m environment at `~/JuliaEnvs/Arborist/Project.toml`\n",
      "\u001b[36m\u001b[1mProject \u001b[22m\u001b[39mArborist v0.1.0\n",
      "\u001b[32m\u001b[1m    Status\u001b[22m\u001b[39m `~/JuliaEnvs/Arborist/Project.toml`\n",
      " \u001b[90m [6e4b80f9]\u001b[39m\u001b[92m + BenchmarkTools v0.4.2\u001b[39m\n",
      " \u001b[90m [da1fd8a2]\u001b[39m\u001b[92m + CodeTracking v0.5.7\u001b[39m\n",
      " \u001b[90m [1914dd2f]\u001b[39m\u001b[92m + MacroTools v0.5.1\u001b[39m\n",
      " \u001b[90m [295af30f]\u001b[39m\u001b[92m + Revise v2.1.6\u001b[39m\n",
      " \u001b[90m [b77e0a4c]\u001b[39m\u001b[92m + InteractiveUtils \u001b[39m\n",
      "\u001b[32m\u001b[1m    Status\u001b[22m\u001b[39m `~/JuliaEnvs/Arborist/Manifest.toml`\n",
      " \u001b[90m [6e4b80f9]\u001b[39m\u001b[92m + BenchmarkTools v0.4.2\u001b[39m\n",
      " \u001b[90m [da1fd8a2]\u001b[39m\u001b[92m + CodeTracking v0.5.7\u001b[39m\n",
      " \u001b[90m [1914dd2f]\u001b[39m\u001b[92m + MacroTools v0.5.1\u001b[39m\n",
      " \u001b[90m [295af30f]\u001b[39m\u001b[92m + Revise v2.1.6\u001b[39m\n",
      " \u001b[90m [b77e0a4c]\u001b[39m\u001b[92m + InteractiveUtils \u001b[39m\n"
     ]
    }
   ],
   "source": [
    "using Pkg: @pkg_str\n",
    "\n",
    "pkg\"activate ..\"\n",
    "pkg\"status\""
   ]
  },
  {
   "cell_type": "code",
   "execution_count": 9,
   "metadata": {},
   "outputs": [],
   "source": [
    "using Arborist\n",
    "using Arborist: graft, get_ast, recurse!, get_method\n",
    "using Test\n",
    "using BenchmarkTools\n",
    "using MacroTools"
   ]
  },
  {
   "cell_type": "code",
   "execution_count": 12,
   "metadata": {},
   "outputs": [],
   "source": [
    "includet(\"../test/demo.jl\")"
   ]
  },
  {
   "cell_type": "code",
   "execution_count": null,
   "metadata": {},
   "outputs": [],
   "source": []
  },
  {
   "cell_type": "code",
   "execution_count": 7,
   "metadata": {},
   "outputs": [
    {
     "data": {
      "text/plain": [
       "foo_orig (generic function with 1 method)"
      ]
     },
     "execution_count": 7,
     "metadata": {},
     "output_type": "execute_result"
    }
   ],
   "source": []
  },
  {
   "cell_type": "code",
   "execution_count": 13,
   "metadata": {},
   "outputs": [
    {
     "data": {
      "text/plain": [
       "CodeInfo(\n",
       "\u001b[90m1 ─\u001b[39m     #23 = %new(Main.:(##23#24))\n",
       "\u001b[90m└──\u001b[39m     return #23\n",
       ")"
      ]
     },
     "execution_count": 13,
     "metadata": {},
     "output_type": "execute_result"
    }
   ],
   "source": [
    "ci = @code_lowered(badbread1())"
   ]
  },
  {
   "cell_type": "code",
   "execution_count": 14,
   "metadata": {},
   "outputs": [
    {
     "name": "stdout",
     "output_type": "stream",
     "text": [
      "*** badbread1() in Main at /Users/oxinabox/JuliaEnvs/Arborist/test/demo.jl:38\n"
     ]
    },
    {
     "data": {
      "text/plain": [
       ":(badbread1() = begin\n",
       "          ()->begin\n",
       "                  99\n",
       "              end\n",
       "      end)"
      ]
     },
     "execution_count": 14,
     "metadata": {},
     "output_type": "execute_result"
    }
   ],
   "source": [
    "meth = get_method(badbread1, Tuple{})\n",
    "Core.println(string(\"*** \", meth))\n",
    "\n",
    "ast = get_ast(meth)"
   ]
  },
  {
   "cell_type": "code",
   "execution_count": 15,
   "metadata": {},
   "outputs": [
    {
     "data": {
      "text/plain": [
       "CodeInfo(\n",
       "   \u001b[33m @ /Users/oxinabox/JuliaEnvs/Arborist/test/demo.jl:38 within `badbread1'\u001b[39m\n",
       "\u001b[90m1 ─\u001b[39m     #23 = %new(Main.:(##23#24))\n",
       "\u001b[90m└──\u001b[39m     return #23\n",
       ")"
      ]
     },
     "execution_count": 15,
     "metadata": {},
     "output_type": "execute_result"
    }
   ],
   "source": [
    "ci = Base.uncompressed_ast(meth)"
   ]
  },
  {
   "cell_type": "code",
   "execution_count": null,
   "metadata": {},
   "outputs": [],
   "source": []
  }
 ],
 "metadata": {
  "kernelspec": {
   "display_name": "Julia 1.3.0-DEV",
   "language": "julia",
   "name": "julia-1.3"
  },
  "language_info": {
   "file_extension": ".jl",
   "mimetype": "application/julia",
   "name": "julia",
   "version": "1.3.0"
  }
 },
 "nbformat": 4,
 "nbformat_minor": 2
}
