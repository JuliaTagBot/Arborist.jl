{
 "cells": [
  {
   "cell_type": "code",
   "execution_count": 1,
   "metadata": {},
   "outputs": [
    {
     "name": "stdout",
     "output_type": "stream",
     "text": [
      "\u001b[32m\u001b[1mActivating\u001b[22m\u001b[39m environment at `~/JuliaEnvs/Arborist/Project.toml`\n",
      "\u001b[32m\u001b[1m  Updating\u001b[22m\u001b[39m registry at `~/.julia/registries/General`\n",
      "\u001b[32m\u001b[1m  Updating\u001b[22m\u001b[39m git-repo `https://github.com/JuliaRegistries/General.git`\n",
      "\u001b[?25l\u001b[2K\u001b[?25h\u001b[32m\u001b[1m  Updating\u001b[22m\u001b[39m registry at `~/.julia/registries/Invenia`\n",
      "\u001b[32m\u001b[1m  Updating\u001b[22m\u001b[39m git-repo `git@gitlab.invenia.ca:invenia/PackageRegistry.git`\n",
      "\u001b[?25l\u001b[2K\u001b[?25h\u001b[32m\u001b[1m Resolving\u001b[22m\u001b[39m package versions...\n",
      "\u001b[32m\u001b[1m  Updating\u001b[22m\u001b[39m `~/JuliaEnvs/Arborist/Project.toml`\n",
      "\u001b[90m [no changes]\u001b[39m\n",
      "\u001b[32m\u001b[1m  Updating\u001b[22m\u001b[39m `~/JuliaEnvs/Arborist/Manifest.toml`\n",
      "\u001b[90m [no changes]\u001b[39m\n",
      "\u001b[36m\u001b[1mProject \u001b[22m\u001b[39mArborist v0.1.0\n",
      "\u001b[32m\u001b[1m    Status\u001b[22m\u001b[39m `~/JuliaEnvs/Arborist/Project.toml`\n",
      " \u001b[90m [6e4b80f9]\u001b[39m\u001b[92m + BenchmarkTools v0.4.2\u001b[39m\n",
      " \u001b[90m [da1fd8a2]\u001b[39m\u001b[92m + CodeTracking v0.5.7\u001b[39m\n",
      " \u001b[90m [1914dd2f]\u001b[39m\u001b[92m + MacroTools v0.5.1\u001b[39m\n",
      " \u001b[90m [295af30f]\u001b[39m\u001b[92m + Revise v2.1.6\u001b[39m\n",
      " \u001b[90m [b77e0a4c]\u001b[39m\u001b[92m + InteractiveUtils \u001b[39m\n",
      "\u001b[32m\u001b[1m    Status\u001b[22m\u001b[39m `~/JuliaEnvs/Arborist/Manifest.toml`\n",
      " \u001b[90m [6e4b80f9]\u001b[39m\u001b[92m + BenchmarkTools v0.4.2\u001b[39m\n",
      " \u001b[90m [da1fd8a2]\u001b[39m\u001b[92m + CodeTracking v0.5.7\u001b[39m\n",
      " \u001b[90m [1914dd2f]\u001b[39m\u001b[92m + MacroTools v0.5.1\u001b[39m\n",
      " \u001b[90m [295af30f]\u001b[39m\u001b[92m + Revise v2.1.6\u001b[39m\n",
      " \u001b[90m [b77e0a4c]\u001b[39m\u001b[92m + InteractiveUtils \u001b[39m\n"
     ]
    }
   ],
   "source": [
    "using Pkg: @pkg_str\n",
    "\n",
    "pkg\"activate ..\"\n",
    "pkg\"add BenchmarkTools\"\n",
    "pkg\"status\""
   ]
  },
  {
   "cell_type": "code",
   "execution_count": 26,
   "metadata": {},
   "outputs": [],
   "source": [
    "using Arborist\n",
    "using Arborist: graft, get_ast\n",
    "using Test\n",
    "using BenchmarkTools\n",
    "using MacroTools"
   ]
  },
  {
   "cell_type": "code",
   "execution_count": 27,
   "metadata": {},
   "outputs": [],
   "source": [
    "includet(\"../test/demo.jl\")"
   ]
  },
  {
   "cell_type": "code",
   "execution_count": 59,
   "metadata": {},
   "outputs": [
    {
     "data": {
      "text/plain": [
       "graft (generic function with 3 methods)"
      ]
     },
     "execution_count": 59,
     "metadata": {},
     "output_type": "execute_result"
    }
   ],
   "source": [
    "function fma_grafter(ast)\n",
    "    MacroTools.postwalk(ast) do expr\n",
    "        if (\n",
    "            @capture(expr, x_ * y_ + z_) ||\n",
    "            @capture(expr, z_ + x_ * y_)        \n",
    "            )\n",
    "            return :(fma($x, $y, $z))\n",
    "        elseif isexpr(expr, :call)\n",
    "            return Expr(:call,\n",
    "                :graft, fma_grafter, expr.args...\n",
    "            )\n",
    "        end\n",
    "        return expr\n",
    "    end\n",
    "end\n",
    "\n",
    "Arborist.redeclare_graft()"
   ]
  },
  {
   "cell_type": "code",
   "execution_count": 61,
   "metadata": {},
   "outputs": [
    {
     "name": "stdout",
     "output_type": "stream",
     "text": [
      "(Array{Float16, 2}, Float16)\n",
      "(Array{Float16, 2}, Float16)\n"
     ]
    },
    {
     "ename": "ErrorException",
     "evalue": "no unique matching method found for the specified argument types",
     "output_type": "error",
     "traceback": [
      "no unique matching method found for the specified argument types",
      "",
      "Stacktrace:",
      " [1] error(::String) at ./error.jl:33",
      " [2] which(::Any, ::Any) at ./reflection.jl:1107",
      " [3] get_method at /Users/oxinabox/JuliaEnvs/Arborist/src/reflection.jl:5 [inlined]",
      " [4] get_method(::Type{typeof(promote_shape)}, ::Type{Tuple{Array{Float16,2},Float16}}) at /Users/oxinabox/JuliaEnvs/Arborist/src/reflection.jl:3",
      " [5] #s80#13 at /Users/oxinabox/JuliaEnvs/Arborist/src/core.jl:43 [inlined]",
      " [6] #s80#13(::Any, ::Any, ::Any, ::Any) at ./none:0",
      " [7] (::Core.GeneratedFunctionStub)(::Any, ::Vararg{Any,N} where N) at ./boot.jl:524",
      " [8] graft(::typeof(fma_grafter), ::typeof(+), ::Array{Float16,2}, ::Array{Float16,2}) at ./none:0",
      " [9] macro expansion at ./simdloop.jl:0 [inlined]",
      " [10] graft(::typeof(fma_grafter), ::typeof(fma_demo2), ::Array{Float16,2}) at ./none:0",
      " [11] top-level scope at In[61]:2"
     ]
    }
   ],
   "source": [
    "bigmat = rand(Float16, (100,100))\n",
    "\n",
    "graft(fma_grafter, fma_demo2, bigmat) |> extrema"
   ]
  },
  {
   "cell_type": "code",
   "execution_count": 51,
   "metadata": {},
   "outputs": [
    {
     "data": {
      "text/plain": [
       "(Float16(138.5), Float16(259.8))"
      ]
     },
     "execution_count": 51,
     "metadata": {},
     "output_type": "execute_result"
    }
   ],
   "source": [
    "fma_demo2(bigmat) |> extrema"
   ]
  },
  {
   "cell_type": "code",
   "execution_count": 52,
   "metadata": {},
   "outputs": [
    {
     "data": {
      "text/plain": [
       "100×100 Array{Float16,2}:\n",
       " 185.4  190.6  209.2  192.1  205.1  …  208.8  211.8  226.5  212.8  202.9\n",
       " 184.4  183.8  202.6  190.5  199.9     212.9  190.9  221.1  183.5  199.0\n",
       " 168.2  184.0  184.8  167.8  180.6     197.8  188.1  206.6  184.0  184.9\n",
       " 176.9  190.8  194.2  188.4  184.5     211.9  207.1  224.9  186.2  195.5\n",
       " 171.8  158.1  181.0  174.5  191.8     192.1  183.4  199.8  181.6  182.6\n",
       " 165.2  182.6  187.1  168.4  189.1  …  194.5  212.5  218.9  189.5  178.2\n",
       " 180.9  177.2  194.6  184.0  190.9     206.9  192.1  222.2  194.5  201.5\n",
       " 164.2  192.6  201.8  179.8  200.9     220.4  221.1  217.4  211.0  204.1\n",
       " 168.8  173.4  183.4  158.5  176.1     198.2  190.9  194.8  180.0  177.8\n",
       " 179.5  192.0  198.5  187.9  203.9     212.5  197.6  228.8  205.6  207.0\n",
       " 156.9  172.4  188.6  153.1  174.2  …  191.4  184.4  204.4  183.6  176.8\n",
       " 172.8  182.4  195.9  183.5  194.0     214.1  193.0  217.0  197.8  187.6\n",
       " 195.0  199.0  213.8  197.0  199.0     219.1  207.6  233.1  209.9  209.8\n",
       "   ⋮                                ⋱    ⋮                              \n",
       " 176.1  186.9  200.4  175.1  203.9     198.8  207.8  219.6  199.5  193.4\n",
       " 163.8  172.8  185.4  167.6  187.5     194.5  204.9  209.6  174.1  176.2\n",
       " 184.0  191.2  183.4  180.2  193.4  …  208.4  200.2  216.0  188.9  206.2\n",
       " 163.0  177.5  184.2  166.8  189.9     190.0  186.0  196.2  186.1  190.8\n",
       " 181.2  189.0  194.0  184.2  194.6     203.8  209.9  234.1  198.2  193.9\n",
       " 176.0  191.0  205.8  189.5  192.9     204.0  205.4  203.9  193.6  192.5\n",
       " 186.8  179.0  189.1  187.1  206.1     205.5  211.0  202.0  194.0  193.9\n",
       " 177.4  185.9  193.8  186.5  196.9  …  203.2  199.4  213.6  200.4  190.5\n",
       " 166.6  170.9  186.5  170.9  186.0     197.2  194.9  209.6  181.6  190.5\n",
       " 208.5  198.9  211.1  207.8  224.1     236.1  233.4  238.5  200.8  222.1\n",
       " 165.0  178.6  185.1  167.4  189.1     207.6  202.1  201.4  184.0  192.5\n",
       " 142.8  156.5  152.8  138.5  150.5     158.4  155.1  179.8  153.4  147.5"
      ]
     },
     "execution_count": 52,
     "metadata": {},
     "output_type": "execute_result"
    }
   ],
   "source": [
    "fma_demo2(bigmat)"
   ]
  },
  {
   "cell_type": "code",
   "execution_count": null,
   "metadata": {},
   "outputs": [],
   "source": []
  },
  {
   "cell_type": "code",
   "execution_count": null,
   "metadata": {},
   "outputs": [],
   "source": []
  }
 ],
 "metadata": {
  "kernelspec": {
   "display_name": "Julia 1.3.0-DEV",
   "language": "julia",
   "name": "julia-1.3"
  },
  "language_info": {
   "file_extension": ".jl",
   "mimetype": "application/julia",
   "name": "julia",
   "version": "1.3.0"
  }
 },
 "nbformat": 4,
 "nbformat_minor": 2
}
